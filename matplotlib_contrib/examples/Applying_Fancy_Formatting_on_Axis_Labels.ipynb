{
  "nbformat": 4,
  "nbformat_minor": 0,
  "metadata": {
    "colab": {
      "name": "Applying_Fancy_Formatting_on_Axis-Labels.ipynb",
      "provenance": [],
      "collapsed_sections": [],
      "include_colab_link": true
    },
    "kernelspec": {
      "name": "python3",
      "display_name": "Python 3"
    }
  },
  "cells": [
    {
      "cell_type": "markdown",
      "metadata": {
        "id": "view-in-github",
        "colab_type": "text"
      },
      "source": [
        "<a href=\"https://colab.research.google.com/github/sugatoray/matplotlib_contrib/blob/master/examples/Applying_Fancy_Formatting_on_Axis_Labels.ipynb\" target=\"_parent\"><img src=\"https://colab.research.google.com/assets/colab-badge.svg\" alt=\"Open In Colab\"/></a>"
      ]
    },
    {
      "cell_type": "code",
      "metadata": {
        "id": "61SeFY2mHssD",
        "colab_type": "code",
        "colab": {}
      },
      "source": [
        "import os\n",
        "import re"
      ],
      "execution_count": 0,
      "outputs": []
    },
    {
      "cell_type": "markdown",
      "metadata": {
        "id": "7RBfeW20WAL1",
        "colab_type": "text"
      },
      "source": [
        "**AUTHOR**: SUGATO RAY  \n",
        "\n",
        "Social Profiles: \n",
        "+ `github`: [sugatoray]( https://github.com/sugatoray)\n",
        "+ `tweeter`: [@sugatoray](https://twitter.com/sugatoray)\n",
        "+ `LinkedIn`: [sugatoray](http://www.linkedin.com/in/sugatoray/)\n",
        "+ `Stackoverflow`: [cypherx](https://stackoverflow.com/story/sugatoray)"
      ]
    },
    {
      "cell_type": "markdown",
      "metadata": {
        "id": "v7q3nDz5HPIY",
        "colab_type": "text"
      },
      "source": [
        "# **Clone the Repository**\n",
        "\n",
        "**repo**: https://github.com/sugatoray/matplotlib_contrib.git"
      ]
    },
    {
      "cell_type": "code",
      "metadata": {
        "id": "4f8xVvj7Eaqy",
        "colab_type": "code",
        "colab": {
          "base_uri": "https://localhost:8080/",
          "height": 158
        },
        "cellView": "form",
        "outputId": "b71992f0-03d1-4731-a991-37a1c4c33439"
      },
      "source": [
        "#@title Execute `git clone remote-repo` { vertical-output: true }\n",
        "git_clone_repo = True #@param [\"True\", \"False\"] {type:\"raw\"}\n",
        "REPO = \"https://github.com/sugatoray/matplotlib_contrib.git\"\n",
        "REPO_NAME = [part for part in str(REPO).strip().split('/') if part.endswith('.git')][0].split('.git')[0]\n",
        "#repo_name = repo.split().split('/')[-1]\n",
        "print('REPO: {}'.format(REPO))\n",
        "print('REPO_NAME: {}'.format(REPO_NAME))\n",
        "if os.path.exists(os.path.abspath('./matplotlib_contrib')):\n",
        "    if git_clone_repo:\n",
        "        !rm -r $REPO_NAME\n",
        "        !git clone $REPO"
      ],
      "execution_count": 2,
      "outputs": [
        {
          "output_type": "stream",
          "text": [
            "REPO: https://github.com/sugatoray/matplotlib_contrib.git\n",
            "REPO_NAME: matplotlib_contrib\n",
            "Cloning into 'matplotlib_contrib'...\n",
            "remote: Enumerating objects: 25, done.\u001b[K\n",
            "remote: Counting objects: 100% (25/25), done.\u001b[K\n",
            "remote: Compressing objects: 100% (19/19), done.\u001b[K\n",
            "remote: Total 25 (delta 5), reused 0 (delta 0), pack-reused 0\u001b[K\n",
            "Unpacking objects: 100% (25/25), done.\n"
          ],
          "name": "stdout"
        }
      ]
    },
    {
      "cell_type": "markdown",
      "metadata": {
        "id": "fSluHFRoHl-D",
        "colab_type": "text"
      },
      "source": [
        "# Import `fancy_formatting` module\n",
        "\n",
        "And show docstring for method **`fancy_format_axis_labels()`**. \n",
        "```python\n",
        "from matplotlib_contrib.axes.axes_labels import fancy_formatting as ff\n",
        "print(ff.fancy_format_axis_labels.__doc__)\n",
        "```"
      ]
    },
    {
      "cell_type": "code",
      "metadata": {
        "id": "ceEvLNzdF6yW",
        "colab_type": "code",
        "colab": {}
      },
      "source": [
        "from matplotlib_contrib.axes.axes_labels import fancy_formatting as ff"
      ],
      "execution_count": 0,
      "outputs": []
    },
    {
      "cell_type": "markdown",
      "metadata": {
        "id": "WY14YgH_N_yZ",
        "colab_type": "text"
      },
      "source": [
        "## Show Docstring of `fancy_format_axis_labels()`."
      ]
    },
    {
      "cell_type": "code",
      "metadata": {
        "id": "8seeOceZGSPh",
        "colab_type": "code",
        "colab": {
          "base_uri": "https://localhost:8080/",
          "height": 1000
        },
        "outputId": "9ae85d62-cd34-4424-e3cd-5febe073360c"
      },
      "source": [
        "print(ff.fancy_format_axis_labels.__doc__)"
      ],
      "execution_count": 4,
      "outputs": [
        {
          "output_type": "stream",
          "text": [
            "Formats axis label according to label range format specification(s).\n",
            "\n",
            "    This method fetches the current label-values for x or y axis of the \n",
            "    axis-object (ax), formats the labels according to the format specification \n",
            "    (label_range_spec) for ranges of values of the label; and finaly, \n",
            "    updates the axis-label in the axis-object.\n",
            "\n",
            "\n",
            "    Parameters\n",
            "    ----------\n",
            "    ax: axis-object. (matplotlib.pyplot.gca() is default)\n",
            "    which_axis: 'x', 'y'. ('y' is default)\n",
            "    label_range_spec: list. (None is default)\n",
            "        See format_labels() for more details. If None is used the following is \n",
            "        used instead.\n",
            "    >>> abel_range_spec = [{'min': -np.inf, 'max': np.inf, 'format': ':.1f'}, ]\n",
            "\n",
            "\n",
            "    Refernces\n",
            "    ---------\n",
            "    Relevant Stackoverflow thread: \n",
            "        https://stackoverflow.com/questions/11244514/modify-tick-label-text\n",
            "\n",
            "\n",
            "    Example\n",
            "    -------\n",
            "\n",
            "    >>> import numpy as np\n",
            "    >>> import matplotlib.pyplot as plt\n",
            "    >>> # Comment out the following three lines \n",
            "    >>> #        if not using jupyter notebook.\n",
            "    >>> %matplotlib inline\n",
            "    >>> %config InlineBackend.figure_format = 'svg' # 'svg', 'retina'\n",
            "    >>> plt.style.use('seaborn-white')\n",
            "    >>> \n",
            "    >>> # Make data\n",
            "    >>> x = np.arange(-0.7, 7, 0.1)\n",
            "    >>> y = 0.6*(x**2 - 8*x + 10)\n",
            "    >>> \n",
            "    >>> #Make figure\n",
            "    >>> fig, ax = plt.subplots()\n",
            "    >>> # Draw canvas and initiate labels on the figure\n",
            "    >>> fig.canvas.draw()\n",
            "    >>> ax.plot(x,y, label='Dummy Data')\n",
            "    >>> \n",
            "    >>> which_axis ='y' # specify which axis to apply fancy-formatting\n",
            "    >>> # Make fancy-formatting specifications\n",
            "    >>> label_range_spec = [{'min': -np.inf, 'max': 2.000, 'format': ':.0f'}, \n",
            "    ...                     {'min': 2.001, 'max': 5.000, 'format': ':.1f'}, \n",
            "    ...                     {'min': 5.001, 'max': 11.000, 'format': ':.2f'}, \n",
            "    ...                     {'min': 11.001, 'max': np.inf, 'format': ':.3e'}, \n",
            "    ...                     ]\n",
            "    >>> # Apply fancy-formatting to axis-labels                    \n",
            "    >>> fancy_format_axis_labels(ax = ax, \n",
            "    ...                          which_axis = which_axis, \n",
            "    ...                          label_range_spec = label_range_spec)\n",
            "    >>> plt.xlabel('x')\n",
            "    >>> plt.ylabel('y')\n",
            "    >>> plt.title('Demo: Fancy Label Format on {}-axis'.format(which_axis))\n",
            "    >>> plt.legend()\n",
            "    >>> plt.show()    \n",
            "\n",
            "    \n"
          ],
          "name": "stdout"
        }
      ]
    },
    {
      "cell_type": "markdown",
      "metadata": {
        "id": "5oiLXB0NOPjL",
        "colab_type": "text"
      },
      "source": [
        "## Show Example of **fancy-formatting** the axis-labels in a figure.\n",
        "\n",
        "We will use the following formatting specifications for y-axis label. We have divided the range $(-\\infty, +\\infty)$ into four sub-regions as follows:  \n",
        "\n",
        "| Sub-Region |     Min     |     Max     | Format | Example |\n",
        "|:----------:|:-----------:|:-----------:|:------:|:--------|\n",
        "|      1     |  $-\\infty$  |    2.000    | ':.0f' | -1.0 $\\rightarrow$  -1 |\n",
        "|      2     |     2.001   |    5.000    | ':.1f' | 4.01 $\\rightarrow$  4.0 |\n",
        "|      3     |     5.001   |   11.000    | ':.2f' | 10.2 $\\rightarrow$  10.20  |\n",
        "|      4     |    11.001   |  $+\\infty$  | ':.3e' |  12 $\\rightarrow$  1.200e+1 |\n",
        "\n",
        "Any label-value less than $2.000$ should be formatted with no digits after the decimal. For example, $-1.0$ will be shown as $-1$.\n",
        "\n",
        "```python\n",
        "# Make fancy-formatting specifications\n",
        "label_range_spec = [{'min': -np.inf, 'max': 2.000, 'format': ':.0f'}, \n",
        "                    {'min': 2.001, 'max': 5.000, 'format': ':.1f'}, \n",
        "                    {'min': 5.001, 'max': 11.000, 'format': ':.2f'}, \n",
        "                    {'min': 11.001, 'max': np.inf, 'format': ':.3e'}, \n",
        "                    ]\n",
        "```"
      ]
    },
    {
      "cell_type": "markdown",
      "metadata": {
        "id": "xu18FparYrN5",
        "colab_type": "text"
      },
      "source": [
        "Make a figure and apply the _fancy-label-formatting_."
      ]
    },
    {
      "cell_type": "code",
      "metadata": {
        "id": "TfeKJ2AbGfOB",
        "colab_type": "code",
        "colab": {
          "base_uri": "https://localhost:8080/",
          "height": 384
        },
        "outputId": "7d6304e8-0b38-46cb-9713-552157deed91"
      },
      "source": [
        "import numpy as np\n",
        "import matplotlib.pyplot as plt\n",
        "\n",
        "%matplotlib inline\n",
        "%config InlineBackend.figure_format = 'svg' # 'svg', 'retina'\n",
        "plt.style.use('seaborn-white')\n",
        "\n",
        "# Make data\n",
        "x = np.arange(-0.7, 7, 0.1)\n",
        "y = 0.6*(x**2 - 8*x + 10)\n",
        "\n",
        "# Make figure\n",
        "fig, ax = plt.subplots()\n",
        "# Draw canvas and initiate labels on the figure\n",
        "fig.canvas.draw()\n",
        "ax.plot(x,y, label='Dummy Data')\n",
        "\n",
        "which_axis ='y' # specify which axis to apply fancy-formatting\n",
        "# Make fancy-formatting specifications\n",
        "label_range_spec = [{'min': -np.inf, 'max': 2.000, 'format': ':.0f'}, \n",
        "                    {'min': 2.001, 'max': 5.000, 'format': ':.1f'}, \n",
        "                    {'min': 5.001, 'max': 11.000, 'format': ':.2f'}, \n",
        "                    {'min': 11.001, 'max': np.inf, 'format': ':.3e'}, \n",
        "                    ]\n",
        "# Apply fancy-formatting to axis-labels                    \n",
        "ff.fancy_format_axis_labels(ax = ax, \n",
        "                            which_axis = which_axis, \n",
        "                            label_range_spec = label_range_spec)\n",
        "plt.xlabel('x')\n",
        "plt.ylabel('y')\n",
        "plt.title('Demo: Fancy Label Format on {}-axis'.format(which_axis))\n",
        "plt.legend()\n",
        "plt.show()"
      ],
      "execution_count": 5,
      "outputs": [
        {
          "output_type": "display_data",
          "data": {
            "text/plain": [
              "<Figure size 432x288 with 1 Axes>"
            ],
            "image/svg+xml": "<?xml version=\"1.0\" encoding=\"utf-8\" standalone=\"no\"?>\n<!DOCTYPE svg PUBLIC \"-//W3C//DTD SVG 1.1//EN\"\n  \"http://www.w3.org/Graphics/SVG/1.1/DTD/svg11.dtd\">\n<!-- Created with matplotlib (https://matplotlib.org/) -->\n<svg height=\"272.68pt\" version=\"1.1\" viewBox=\"0 0 413.567187 272.68\" width=\"413.567187pt\" xmlns=\"http://www.w3.org/2000/svg\" xmlns:xlink=\"http://www.w3.org/1999/xlink\">\n <defs>\n  <style type=\"text/css\">\n*{stroke-linecap:butt;stroke-linejoin:round;}\n  </style>\n </defs>\n <g id=\"figure_1\">\n  <g id=\"patch_1\">\n   <path d=\"M 0 272.68 \nL 413.567187 272.68 \nL 413.567187 0 \nL 0 0 \nz\n\" style=\"fill:#ffffff;\"/>\n  </g>\n  <g id=\"axes_1\">\n   <g id=\"patch_2\">\n    <path d=\"M 71.567188 239.33625 \nL 406.367188 239.33625 \nL 406.367188 21.89625 \nL 71.567188 21.89625 \nz\n\" style=\"fill:#ffffff;\"/>\n   </g>\n   <g id=\"matplotlib.axis_1\">\n    <g id=\"xtick_1\">\n     <g id=\"line2d_1\"/>\n     <g id=\"text_1\">\n      <!-- −1 -->\n      <defs>\n       <path d=\"M 4.9375 29.6875 \nL 4.9375 36.8125 \nL 53.515625 36.8125 \nL 53.515625 29.6875 \nz\n\" id=\"LiberationSans-8722\"/>\n       <path d=\"M 7.625 0 \nL 7.625 7.46875 \nL 25.140625 7.46875 \nL 25.140625 60.40625 \nL 9.625 49.3125 \nL 9.625 57.625 \nL 25.875 68.796875 \nL 33.984375 68.796875 \nL 33.984375 7.46875 \nL 50.734375 7.46875 \nL 50.734375 0 \nz\n\" id=\"LiberationSans-49\"/>\n      </defs>\n      <g style=\"fill:#262626;\" transform=\"translate(69.070234 250.083125)scale(0.1 -0.1)\">\n       <use xlink:href=\"#LiberationSans-8722\"/>\n       <use x=\"58.398438\" xlink:href=\"#LiberationSans-49\"/>\n      </g>\n     </g>\n    </g>\n    <g id=\"xtick_2\">\n     <g id=\"line2d_2\"/>\n     <g id=\"text_2\">\n      <!-- 0 -->\n      <defs>\n       <path d=\"M 51.703125 34.421875 \nQ 51.703125 24.515625 49.828125 17.75 \nQ 47.953125 10.984375 44.703125 6.8125 \nQ 41.453125 2.640625 37.0625 0.828125 \nQ 32.671875 -0.984375 27.6875 -0.984375 \nQ 22.65625 -0.984375 18.3125 0.828125 \nQ 13.96875 2.640625 10.765625 6.78125 \nQ 7.5625 10.9375 5.734375 17.703125 \nQ 3.90625 24.46875 3.90625 34.421875 \nQ 3.90625 44.828125 5.734375 51.640625 \nQ 7.5625 58.453125 10.78125 62.5 \nQ 14.015625 66.546875 18.40625 68.1875 \nQ 22.796875 69.828125 27.984375 69.828125 \nQ 32.90625 69.828125 37.21875 68.1875 \nQ 41.546875 66.546875 44.765625 62.5 \nQ 48 58.453125 49.84375 51.640625 \nQ 51.703125 44.828125 51.703125 34.421875 \nz\nM 42.78125 34.421875 \nQ 42.78125 42.625 41.796875 48.0625 \nQ 40.828125 53.515625 38.921875 56.765625 \nQ 37.015625 60.015625 34.25 61.359375 \nQ 31.5 62.703125 27.984375 62.703125 \nQ 24.265625 62.703125 21.4375 61.328125 \nQ 18.609375 59.96875 16.671875 56.71875 \nQ 14.75 53.46875 13.765625 48.015625 \nQ 12.796875 42.578125 12.796875 34.421875 \nQ 12.796875 26.515625 13.796875 21.09375 \nQ 14.796875 15.671875 16.71875 12.375 \nQ 18.65625 9.078125 21.4375 7.640625 \nQ 24.21875 6.203125 27.78125 6.203125 \nQ 31.25 6.203125 34.03125 7.640625 \nQ 36.8125 9.078125 38.734375 12.375 \nQ 40.671875 15.671875 41.71875 21.09375 \nQ 42.78125 26.515625 42.78125 34.421875 \nz\n\" id=\"LiberationSans-48\"/>\n      </defs>\n      <g style=\"fill:#262626;\" transform=\"translate(112.038393 250.083125)scale(0.1 -0.1)\">\n       <use xlink:href=\"#LiberationSans-48\"/>\n      </g>\n     </g>\n    </g>\n    <g id=\"xtick_3\">\n     <g id=\"line2d_3\"/>\n     <g id=\"text_3\">\n      <!-- 1 -->\n      <g style=\"fill:#262626;\" transform=\"translate(152.08624 250.083125)scale(0.1 -0.1)\">\n       <use xlink:href=\"#LiberationSans-49\"/>\n      </g>\n     </g>\n    </g>\n    <g id=\"xtick_4\">\n     <g id=\"line2d_4\"/>\n     <g id=\"text_4\">\n      <!-- 2 -->\n      <defs>\n       <path d=\"M 5.03125 0 \nL 5.03125 6.203125 \nQ 7.515625 11.921875 11.109375 16.28125 \nQ 14.703125 20.65625 18.65625 24.1875 \nQ 22.609375 27.734375 26.484375 30.765625 \nQ 30.375 33.796875 33.5 36.8125 \nQ 36.625 39.84375 38.546875 43.15625 \nQ 40.484375 46.484375 40.484375 50.6875 \nQ 40.484375 53.609375 39.59375 55.828125 \nQ 38.71875 58.0625 37.0625 59.5625 \nQ 35.40625 61.078125 33.078125 61.828125 \nQ 30.765625 62.59375 27.9375 62.59375 \nQ 25.296875 62.59375 22.96875 61.859375 \nQ 20.65625 61.140625 18.84375 59.671875 \nQ 17.046875 58.203125 15.890625 56.03125 \nQ 14.75 53.859375 14.40625 50.984375 \nL 5.421875 51.8125 \nQ 5.859375 55.515625 7.46875 58.78125 \nQ 9.078125 62.0625 11.90625 64.53125 \nQ 14.75 67 18.71875 68.40625 \nQ 22.703125 69.828125 27.9375 69.828125 \nQ 33.0625 69.828125 37.0625 68.609375 \nQ 41.0625 67.390625 43.8125 64.984375 \nQ 46.578125 62.59375 48.046875 59.078125 \nQ 49.515625 55.5625 49.515625 50.984375 \nQ 49.515625 47.515625 48.265625 44.390625 \nQ 47.015625 41.265625 44.9375 38.421875 \nQ 42.875 35.59375 40.140625 32.953125 \nQ 37.40625 30.328125 34.421875 27.8125 \nQ 31.453125 25.296875 28.421875 22.828125 \nQ 25.390625 20.359375 22.71875 17.859375 \nQ 20.0625 15.375 17.96875 12.8125 \nQ 15.875 10.25 14.703125 7.46875 \nL 50.59375 7.46875 \nL 50.59375 0 \nz\n\" id=\"LiberationSans-50\"/>\n      </defs>\n      <g style=\"fill:#262626;\" transform=\"translate(192.134087 250.083125)scale(0.1 -0.1)\">\n       <use xlink:href=\"#LiberationSans-50\"/>\n      </g>\n     </g>\n    </g>\n    <g id=\"xtick_5\">\n     <g id=\"line2d_5\"/>\n     <g id=\"text_5\">\n      <!-- 3 -->\n      <defs>\n       <path d=\"M 51.21875 19 \nQ 51.21875 14.265625 49.671875 10.546875 \nQ 48.140625 6.84375 45.1875 4.265625 \nQ 42.234375 1.703125 37.859375 0.359375 \nQ 33.5 -0.984375 27.875 -0.984375 \nQ 21.484375 -0.984375 17.109375 0.609375 \nQ 12.75 2.203125 9.90625 4.8125 \nQ 7.078125 7.421875 5.65625 10.765625 \nQ 4.25 14.109375 3.8125 17.671875 \nL 12.890625 18.5 \nQ 13.28125 15.765625 14.328125 13.515625 \nQ 15.375 11.28125 17.1875 9.671875 \nQ 19 8.0625 21.625 7.171875 \nQ 24.265625 6.296875 27.875 6.296875 \nQ 34.515625 6.296875 38.296875 9.5625 \nQ 42.09375 12.84375 42.09375 19.28125 \nQ 42.09375 23.09375 40.40625 25.40625 \nQ 38.71875 27.734375 36.203125 29.03125 \nQ 33.6875 30.328125 30.734375 30.765625 \nQ 27.78125 31.203125 25.296875 31.203125 \nL 20.3125 31.203125 \nL 20.3125 38.8125 \nL 25.09375 38.8125 \nQ 27.59375 38.8125 30.265625 39.328125 \nQ 32.953125 39.84375 35.171875 41.1875 \nQ 37.40625 42.53125 38.84375 44.828125 \nQ 40.28125 47.125 40.28125 50.6875 \nQ 40.28125 56.203125 37.03125 59.390625 \nQ 33.796875 62.59375 27.390625 62.59375 \nQ 21.578125 62.59375 17.984375 59.609375 \nQ 14.40625 56.640625 13.8125 51.21875 \nL 4.984375 51.90625 \nQ 5.515625 56.453125 7.46875 59.8125 \nQ 9.421875 63.1875 12.421875 65.40625 \nQ 15.4375 67.625 19.28125 68.71875 \nQ 23.140625 69.828125 27.484375 69.828125 \nQ 33.25 69.828125 37.390625 68.375 \nQ 41.546875 66.9375 44.1875 64.46875 \nQ 46.828125 62.015625 48.0625 58.6875 \nQ 49.3125 55.375 49.3125 51.609375 \nQ 49.3125 48.578125 48.484375 45.9375 \nQ 47.65625 43.3125 45.890625 41.203125 \nQ 44.140625 39.109375 41.421875 37.59375 \nQ 38.71875 36.078125 34.90625 35.296875 \nL 34.90625 35.109375 \nQ 39.0625 34.671875 42.140625 33.21875 \nQ 45.21875 31.78125 47.21875 29.625 \nQ 49.21875 27.484375 50.21875 24.75 \nQ 51.21875 22.015625 51.21875 19 \nz\n\" id=\"LiberationSans-51\"/>\n      </defs>\n      <g style=\"fill:#262626;\" transform=\"translate(232.181934 250.083125)scale(0.1 -0.1)\">\n       <use xlink:href=\"#LiberationSans-51\"/>\n      </g>\n     </g>\n    </g>\n    <g id=\"xtick_6\">\n     <g id=\"line2d_6\"/>\n     <g id=\"text_6\">\n      <!-- 4 -->\n      <defs>\n       <path d=\"M 43.015625 15.578125 \nL 43.015625 0 \nL 34.71875 0 \nL 34.71875 15.578125 \nL 2.296875 15.578125 \nL 2.296875 22.40625 \nL 33.796875 68.796875 \nL 43.015625 68.796875 \nL 43.015625 22.515625 \nL 52.6875 22.515625 \nL 52.6875 15.578125 \nz\nM 34.71875 58.890625 \nQ 34.625 58.640625 34.234375 57.9375 \nQ 33.84375 57.234375 33.34375 56.34375 \nQ 32.859375 55.46875 32.34375 54.5625 \nQ 31.84375 53.65625 31.453125 53.078125 \nL 13.8125 27.09375 \nQ 13.578125 26.703125 13.109375 26.0625 \nQ 12.640625 25.4375 12.15625 24.78125 \nQ 11.671875 24.125 11.171875 23.484375 \nQ 10.6875 22.859375 10.40625 22.515625 \nL 34.71875 22.515625 \nz\n\" id=\"LiberationSans-52\"/>\n      </defs>\n      <g style=\"fill:#262626;\" transform=\"translate(272.229781 250.083125)scale(0.1 -0.1)\">\n       <use xlink:href=\"#LiberationSans-52\"/>\n      </g>\n     </g>\n    </g>\n    <g id=\"xtick_7\">\n     <g id=\"line2d_7\"/>\n     <g id=\"text_7\">\n      <!-- 5 -->\n      <defs>\n       <path d=\"M 51.421875 22.40625 \nQ 51.421875 17.234375 49.859375 12.9375 \nQ 48.296875 8.640625 45.21875 5.53125 \nQ 42.140625 2.4375 37.578125 0.71875 \nQ 33.015625 -0.984375 27 -0.984375 \nQ 21.578125 -0.984375 17.546875 0.28125 \nQ 13.53125 1.5625 10.734375 3.78125 \nQ 7.953125 6 6.3125 8.984375 \nQ 4.6875 11.96875 4 15.375 \nL 12.890625 16.40625 \nQ 13.421875 14.453125 14.390625 12.625 \nQ 15.375 10.796875 17.0625 9.34375 \nQ 18.75 7.90625 21.21875 7.046875 \nQ 23.6875 6.203125 27.203125 6.203125 \nQ 30.609375 6.203125 33.390625 7.25 \nQ 36.1875 8.296875 38.15625 10.34375 \nQ 40.140625 12.40625 41.203125 15.375 \nQ 42.28125 18.359375 42.28125 22.21875 \nQ 42.28125 25.390625 41.25 28.046875 \nQ 40.234375 30.71875 38.328125 32.640625 \nQ 36.421875 34.578125 33.65625 35.640625 \nQ 30.90625 36.71875 27.390625 36.71875 \nQ 25.203125 36.71875 23.34375 36.328125 \nQ 21.484375 35.9375 19.890625 35.25 \nQ 18.3125 34.578125 17.015625 33.671875 \nQ 15.71875 32.765625 14.59375 31.78125 \nL 6 31.78125 \nL 8.296875 68.796875 \nL 47.40625 68.796875 \nL 47.40625 61.328125 \nL 16.3125 61.328125 \nL 14.984375 39.5 \nQ 17.328125 41.3125 20.84375 42.59375 \nQ 24.359375 43.890625 29.203125 43.890625 \nQ 34.328125 43.890625 38.421875 42.328125 \nQ 42.53125 40.765625 45.40625 37.90625 \nQ 48.296875 35.0625 49.859375 31.109375 \nQ 51.421875 27.15625 51.421875 22.40625 \nz\n\" id=\"LiberationSans-53\"/>\n      </defs>\n      <g style=\"fill:#262626;\" transform=\"translate(312.277628 250.083125)scale(0.1 -0.1)\">\n       <use xlink:href=\"#LiberationSans-53\"/>\n      </g>\n     </g>\n    </g>\n    <g id=\"xtick_8\">\n     <g id=\"line2d_8\"/>\n     <g id=\"text_8\">\n      <!-- 6 -->\n      <defs>\n       <path d=\"M 51.21875 22.515625 \nQ 51.21875 17.328125 49.78125 13 \nQ 48.34375 8.6875 45.53125 5.578125 \nQ 42.71875 2.484375 38.5625 0.75 \nQ 34.421875 -0.984375 29 -0.984375 \nQ 23 -0.984375 18.5 1.3125 \nQ 14.015625 3.609375 11.03125 7.921875 \nQ 8.0625 12.25 6.5625 18.53125 \nQ 5.078125 24.8125 5.078125 32.8125 \nQ 5.078125 42 6.765625 48.921875 \nQ 8.453125 55.859375 11.625 60.5 \nQ 14.796875 65.140625 19.359375 67.484375 \nQ 23.921875 69.828125 29.6875 69.828125 \nQ 33.203125 69.828125 36.28125 69.09375 \nQ 39.359375 68.359375 41.875 66.71875 \nQ 44.390625 65.09375 46.28125 62.40625 \nQ 48.1875 59.71875 49.3125 55.8125 \nL 40.921875 54.296875 \nQ 39.546875 58.734375 36.546875 60.71875 \nQ 33.546875 62.703125 29.59375 62.703125 \nQ 25.984375 62.703125 23.046875 60.984375 \nQ 20.125 59.28125 18.0625 55.875 \nQ 16.015625 52.484375 14.90625 47.359375 \nQ 13.8125 42.234375 13.8125 35.40625 \nQ 16.21875 39.84375 20.5625 42.15625 \nQ 24.90625 44.484375 30.515625 44.484375 \nQ 35.203125 44.484375 39.015625 42.96875 \nQ 42.828125 41.453125 45.53125 38.59375 \nQ 48.25 35.75 49.734375 31.671875 \nQ 51.21875 27.59375 51.21875 22.515625 \nz\nM 42.28125 22.125 \nQ 42.28125 25.6875 41.40625 28.5625 \nQ 40.53125 31.453125 38.765625 33.46875 \nQ 37.015625 35.5 34.421875 36.59375 \nQ 31.84375 37.703125 28.421875 37.703125 \nQ 26.03125 37.703125 23.578125 36.984375 \nQ 21.140625 36.28125 19.15625 34.6875 \nQ 17.1875 33.109375 15.9375 30.515625 \nQ 14.703125 27.9375 14.703125 24.21875 \nQ 14.703125 20.40625 15.671875 17.109375 \nQ 16.65625 13.8125 18.484375 11.375 \nQ 20.3125 8.9375 22.890625 7.515625 \nQ 25.484375 6.109375 28.71875 6.109375 \nQ 31.890625 6.109375 34.40625 7.203125 \nQ 36.921875 8.296875 38.671875 10.375 \nQ 40.4375 12.453125 41.359375 15.421875 \nQ 42.28125 18.40625 42.28125 22.125 \nz\n\" id=\"LiberationSans-54\"/>\n      </defs>\n      <g style=\"fill:#262626;\" transform=\"translate(352.325475 250.083125)scale(0.1 -0.1)\">\n       <use xlink:href=\"#LiberationSans-54\"/>\n      </g>\n     </g>\n    </g>\n    <g id=\"xtick_9\">\n     <g id=\"line2d_9\"/>\n     <g id=\"text_9\">\n      <!-- 7 -->\n      <defs>\n       <path d=\"M 50.59375 61.671875 \nQ 45.40625 53.765625 41.0625 46.453125 \nQ 36.71875 39.15625 33.59375 31.75 \nQ 30.46875 24.359375 28.734375 16.578125 \nQ 27 8.796875 27 0 \nL 17.828125 0 \nQ 17.828125 8.25 19.78125 16.1875 \nQ 21.734375 24.125 25.046875 31.765625 \nQ 28.375 39.40625 32.765625 46.78125 \nQ 37.15625 54.15625 42.09375 61.328125 \nL 5.125 61.328125 \nL 5.125 68.796875 \nL 50.59375 68.796875 \nz\n\" id=\"LiberationSans-55\"/>\n      </defs>\n      <g style=\"fill:#262626;\" transform=\"translate(392.373322 250.083125)scale(0.1 -0.1)\">\n       <use xlink:href=\"#LiberationSans-55\"/>\n      </g>\n     </g>\n    </g>\n    <g id=\"text_10\">\n     <!-- x -->\n     <defs>\n      <path d=\"M 39.109375 0 \nL 24.90625 21.6875 \nL 10.59375 0 \nL 1.125 0 \nL 19.921875 27.15625 \nL 2 52.828125 \nL 11.71875 52.828125 \nL 24.90625 32.28125 \nL 37.984375 52.828125 \nL 47.796875 52.828125 \nL 29.890625 27.25 \nL 48.921875 0 \nz\n\" id=\"LiberationSans-120\"/>\n     </defs>\n     <g style=\"fill:#262626;\" transform=\"translate(236.467188 263.405)scale(0.1 -0.1)\">\n      <use xlink:href=\"#LiberationSans-120\"/>\n     </g>\n    </g>\n   </g>\n   <g id=\"matplotlib.axis_2\">\n    <g id=\"ytick_1\">\n     <g id=\"line2d_10\"/>\n     <g id=\"text_11\">\n      <!-- -2 -->\n      <defs>\n       <path d=\"M 4.4375 22.65625 \nL 4.4375 30.46875 \nL 28.859375 30.46875 \nL 28.859375 22.65625 \nz\n\" id=\"LiberationSans-45\"/>\n      </defs>\n      <g style=\"fill:#262626;\" transform=\"translate(59.176563 239.041729)scale(0.1 -0.1)\">\n       <use xlink:href=\"#LiberationSans-45\"/>\n       <use x=\"33.300781\" xlink:href=\"#LiberationSans-50\"/>\n      </g>\n     </g>\n    </g>\n    <g id=\"ytick_2\">\n     <g id=\"line2d_11\"/>\n     <g id=\"text_12\">\n      <!-- 0 -->\n      <g style=\"fill:#262626;\" transform=\"translate(62.50625 209.213341)scale(0.1 -0.1)\">\n       <use xlink:href=\"#LiberationSans-48\"/>\n      </g>\n     </g>\n    </g>\n    <g id=\"ytick_3\">\n     <g id=\"line2d_12\"/>\n     <g id=\"text_13\">\n      <!-- 2 -->\n      <g style=\"fill:#262626;\" transform=\"translate(62.50625 179.384953)scale(0.1 -0.1)\">\n       <use xlink:href=\"#LiberationSans-50\"/>\n      </g>\n     </g>\n    </g>\n    <g id=\"ytick_4\">\n     <g id=\"line2d_13\"/>\n     <g id=\"text_14\">\n      <!-- 4.0 -->\n      <defs>\n       <path d=\"M 9.125 0 \nL 9.125 10.6875 \nL 18.65625 10.6875 \nL 18.65625 0 \nz\n\" id=\"LiberationSans-46\"/>\n      </defs>\n      <g style=\"fill:#262626;\" transform=\"translate(54.167188 149.556565)scale(0.1 -0.1)\">\n       <use xlink:href=\"#LiberationSans-52\"/>\n       <use x=\"55.615234\" xlink:href=\"#LiberationSans-46\"/>\n       <use x=\"83.398438\" xlink:href=\"#LiberationSans-48\"/>\n      </g>\n     </g>\n    </g>\n    <g id=\"ytick_5\">\n     <g id=\"line2d_14\"/>\n     <g id=\"text_15\">\n      <!-- 6.00 -->\n      <g style=\"fill:#262626;\" transform=\"translate(48.60625 119.728177)scale(0.1 -0.1)\">\n       <use xlink:href=\"#LiberationSans-54\"/>\n       <use x=\"55.615234\" xlink:href=\"#LiberationSans-46\"/>\n       <use x=\"83.398438\" xlink:href=\"#LiberationSans-48\"/>\n       <use x=\"139.013672\" xlink:href=\"#LiberationSans-48\"/>\n      </g>\n     </g>\n    </g>\n    <g id=\"ytick_6\">\n     <g id=\"line2d_15\"/>\n     <g id=\"text_16\">\n      <!-- 8.00 -->\n      <defs>\n       <path d=\"M 51.265625 19.1875 \nQ 51.265625 14.796875 49.875 11.109375 \nQ 48.484375 7.421875 45.625 4.734375 \nQ 42.78125 2.046875 38.328125 0.53125 \nQ 33.890625 -0.984375 27.828125 -0.984375 \nQ 21.78125 -0.984375 17.359375 0.53125 \nQ 12.9375 2.046875 10.03125 4.703125 \nQ 7.125 7.375 5.734375 11.0625 \nQ 4.34375 14.75 4.34375 19.09375 \nQ 4.34375 22.859375 5.484375 25.78125 \nQ 6.640625 28.71875 8.5625 30.828125 \nQ 10.5 32.953125 12.96875 34.25 \nQ 15.4375 35.546875 18.0625 35.984375 \nL 18.0625 36.1875 \nQ 15.1875 36.859375 12.90625 38.375 \nQ 10.640625 39.890625 9.09375 42.015625 \nQ 7.5625 44.140625 6.75 46.71875 \nQ 5.953125 49.3125 5.953125 52.203125 \nQ 5.953125 55.8125 7.34375 59 \nQ 8.734375 62.203125 11.46875 64.625 \nQ 14.203125 67.046875 18.25 68.4375 \nQ 22.3125 69.828125 27.640625 69.828125 \nQ 33.25 69.828125 37.375 68.40625 \nQ 41.5 67 44.203125 64.578125 \nQ 46.921875 62.15625 48.234375 58.9375 \nQ 49.5625 55.71875 49.5625 52.09375 \nQ 49.5625 49.265625 48.75 46.671875 \nQ 47.953125 44.09375 46.40625 41.96875 \nQ 44.875 39.84375 42.59375 38.34375 \nQ 40.328125 36.859375 37.359375 36.28125 \nL 37.359375 36.078125 \nQ 40.328125 35.59375 42.859375 34.296875 \nQ 45.40625 33.015625 47.265625 30.890625 \nQ 49.125 28.765625 50.1875 25.828125 \nQ 51.265625 22.90625 51.265625 19.1875 \nz\nM 40.4375 51.609375 \nQ 40.4375 54.203125 39.765625 56.34375 \nQ 39.109375 58.5 37.59375 60.03125 \nQ 36.078125 61.578125 33.640625 62.421875 \nQ 31.203125 63.28125 27.640625 63.28125 \nQ 24.171875 63.28125 21.78125 62.421875 \nQ 19.390625 61.578125 17.84375 60.03125 \nQ 16.3125 58.5 15.625 56.34375 \nQ 14.9375 54.203125 14.9375 51.609375 \nQ 14.9375 49.5625 15.46875 47.40625 \nQ 16.015625 45.265625 17.421875 43.5 \nQ 18.84375 41.75 21.328125 40.625 \nQ 23.828125 39.5 27.734375 39.5 \nQ 31.890625 39.5 34.40625 40.625 \nQ 36.921875 41.75 38.25 43.5 \nQ 39.59375 45.265625 40.015625 47.40625 \nQ 40.4375 49.5625 40.4375 51.609375 \nz\nM 42.140625 20.015625 \nQ 42.140625 22.515625 41.453125 24.828125 \nQ 40.765625 27.15625 39.109375 28.9375 \nQ 37.453125 30.71875 34.640625 31.8125 \nQ 31.84375 32.90625 27.640625 32.90625 \nQ 23.78125 32.90625 21.0625 31.8125 \nQ 18.359375 30.71875 16.671875 28.90625 \nQ 14.984375 27.09375 14.203125 24.71875 \nQ 13.421875 22.359375 13.421875 19.828125 \nQ 13.421875 16.65625 14.203125 14.03125 \nQ 14.984375 11.421875 16.6875 9.546875 \nQ 18.40625 7.671875 21.1875 6.640625 \nQ 23.96875 5.609375 27.9375 5.609375 \nQ 31.9375 5.609375 34.671875 6.640625 \nQ 37.40625 7.671875 39.0625 9.546875 \nQ 40.71875 11.421875 41.421875 14.078125 \nQ 42.140625 16.75 42.140625 20.015625 \nz\n\" id=\"LiberationSans-56\"/>\n      </defs>\n      <g style=\"fill:#262626;\" transform=\"translate(48.60625 89.899789)scale(0.1 -0.1)\">\n       <use xlink:href=\"#LiberationSans-56\"/>\n       <use x=\"55.615234\" xlink:href=\"#LiberationSans-46\"/>\n       <use x=\"83.398438\" xlink:href=\"#LiberationSans-48\"/>\n       <use x=\"139.013672\" xlink:href=\"#LiberationSans-48\"/>\n      </g>\n     </g>\n    </g>\n    <g id=\"ytick_7\">\n     <g id=\"line2d_16\"/>\n     <g id=\"text_17\">\n      <!-- 10.00 -->\n      <g style=\"fill:#262626;\" transform=\"translate(43.045313 60.071401)scale(0.1 -0.1)\">\n       <use xlink:href=\"#LiberationSans-49\"/>\n       <use x=\"55.615234\" xlink:href=\"#LiberationSans-48\"/>\n       <use x=\"111.230469\" xlink:href=\"#LiberationSans-46\"/>\n       <use x=\"139.013672\" xlink:href=\"#LiberationSans-48\"/>\n       <use x=\"194.628906\" xlink:href=\"#LiberationSans-48\"/>\n      </g>\n     </g>\n    </g>\n    <g id=\"ytick_8\">\n     <g id=\"line2d_17\"/>\n     <g id=\"text_18\">\n      <!-- 1.200e+01 -->\n      <defs>\n       <path d=\"M 13.484375 24.5625 \nQ 13.484375 20.40625 14.328125 16.90625 \nQ 15.1875 13.421875 16.96875 10.90625 \nQ 18.75 8.40625 21.53125 7 \nQ 24.3125 5.609375 28.21875 5.609375 \nQ 33.9375 5.609375 37.375 7.90625 \nQ 40.828125 10.203125 42.046875 13.71875 \nL 49.75 11.53125 \nQ 48.921875 9.328125 47.4375 7.109375 \nQ 45.953125 4.890625 43.453125 3.09375 \nQ 40.96875 1.3125 37.234375 0.15625 \nQ 33.5 -0.984375 28.21875 -0.984375 \nQ 16.5 -0.984375 10.375 6 \nQ 4.25 12.984375 4.25 26.765625 \nQ 4.25 34.1875 6.09375 39.328125 \nQ 7.953125 44.484375 11.171875 47.703125 \nQ 14.40625 50.921875 18.703125 52.359375 \nQ 23 53.8125 27.875 53.8125 \nQ 34.515625 53.8125 38.984375 51.65625 \nQ 43.453125 49.515625 46.15625 45.71875 \nQ 48.875 41.9375 50.015625 36.8125 \nQ 51.171875 31.6875 51.171875 25.734375 \nL 51.171875 24.5625 \nz\nM 42.09375 31.296875 \nQ 41.359375 39.65625 37.84375 43.484375 \nQ 34.328125 47.3125 27.734375 47.3125 \nQ 25.53125 47.3125 23.109375 46.609375 \nQ 20.703125 45.90625 18.65625 44.09375 \nQ 16.609375 42.28125 15.1875 39.171875 \nQ 13.765625 36.078125 13.578125 31.296875 \nz\n\" id=\"LiberationSans-101\"/>\n       <path d=\"M 32.765625 29.6875 \nL 32.765625 8.796875 \nL 25.59375 8.796875 \nL 25.59375 29.6875 \nL 4.890625 29.6875 \nL 4.890625 36.8125 \nL 25.59375 36.8125 \nL 25.59375 57.71875 \nL 32.765625 57.71875 \nL 32.765625 36.8125 \nL 53.46875 36.8125 \nL 53.46875 29.6875 \nz\n\" id=\"LiberationSans-43\"/>\n      </defs>\n      <g style=\"fill:#262626;\" transform=\"translate(20.521875 30.243013)scale(0.1 -0.1)\">\n       <use xlink:href=\"#LiberationSans-49\"/>\n       <use x=\"55.615234\" xlink:href=\"#LiberationSans-46\"/>\n       <use x=\"83.398438\" xlink:href=\"#LiberationSans-50\"/>\n       <use x=\"139.013672\" xlink:href=\"#LiberationSans-48\"/>\n       <use x=\"194.628906\" xlink:href=\"#LiberationSans-48\"/>\n       <use x=\"250.244141\" xlink:href=\"#LiberationSans-101\"/>\n       <use x=\"305.859375\" xlink:href=\"#LiberationSans-43\"/>\n       <use x=\"364.257812\" xlink:href=\"#LiberationSans-48\"/>\n       <use x=\"419.873047\" xlink:href=\"#LiberationSans-49\"/>\n      </g>\n     </g>\n    </g>\n    <g id=\"text_19\">\n     <!-- y -->\n     <defs>\n      <path d=\"M 29.5 0 \nQ 27.640625 -4.78125 25.703125 -8.609375 \nQ 23.78125 -12.453125 21.390625 -15.15625 \nQ 19 -17.875 16.0625 -19.3125 \nQ 13.140625 -20.75 9.328125 -20.75 \nQ 7.671875 -20.75 6.25 -20.65625 \nQ 4.828125 -20.5625 3.265625 -20.21875 \nL 3.265625 -13.625 \nQ 4.203125 -13.765625 5.375 -13.84375 \nQ 6.546875 -13.921875 7.375 -13.921875 \nQ 11.234375 -13.921875 14.546875 -11.03125 \nQ 17.875 -8.15625 20.359375 -1.859375 \nL 21.1875 0.25 \nL 0.25 52.828125 \nL 9.625 52.828125 \nL 20.75 23.640625 \nQ 21.234375 22.3125 21.984375 20.109375 \nQ 22.75 17.921875 23.5 15.71875 \nQ 24.265625 13.53125 24.84375 11.765625 \nQ 25.4375 10.015625 25.53125 9.578125 \nQ 25.6875 10.109375 26.25 11.6875 \nQ 26.8125 13.28125 27.515625 15.234375 \nQ 28.21875 17.1875 28.953125 19.1875 \nQ 29.6875 21.1875 30.171875 22.65625 \nL 40.53125 52.828125 \nL 49.8125 52.828125 \nz\n\" id=\"LiberationSans-121\"/>\n     </defs>\n     <g style=\"fill:#262626;\" transform=\"translate(14.446875 133.11625)rotate(-90)scale(0.1 -0.1)\">\n      <use xlink:href=\"#LiberationSans-121\"/>\n     </g>\n    </g>\n   </g>\n   <g id=\"line2d_18\">\n    <path clip-path=\"url(#p7f0816db4a)\" d=\"M 86.785369 31.779886 \nL 90.790154 40.102007 \nL 94.794939 48.245157 \nL 98.799723 56.209336 \nL 102.804508 63.994545 \nL 106.809293 71.600784 \nL 110.814077 79.028053 \nL 114.818862 86.276351 \nL 118.823647 93.345679 \nL 122.828432 100.236037 \nL 126.833216 106.947424 \nL 130.838001 113.479841 \nL 134.842786 119.833288 \nL 138.84757 126.007764 \nL 142.852355 132.00327 \nL 146.85714 137.819806 \nL 150.861924 143.457371 \nL 154.866709 148.915966 \nL 158.871494 154.195591 \nL 162.876278 159.296245 \nL 166.881063 164.217929 \nL 170.885848 168.960643 \nL 174.890632 173.524386 \nL 178.895417 177.909159 \nL 182.900202 182.114962 \nL 186.904987 186.141794 \nL 190.909771 189.989656 \nL 194.914556 193.658548 \nL 198.919341 197.148469 \nL 202.924125 200.459421 \nL 206.92891 203.591401 \nL 210.933695 206.544412 \nL 214.938479 209.318452 \nL 218.943264 211.913521 \nL 222.948049 214.329621 \nL 226.952833 216.56675 \nL 230.957618 218.624909 \nL 234.962403 220.504097 \nL 238.967187 222.204315 \nL 242.971972 223.725563 \nL 246.976757 225.067841 \nL 250.981542 226.231148 \nL 254.986326 227.215485 \nL 258.991111 228.020851 \nL 262.995896 228.647247 \nL 267.00068 229.094673 \nL 271.005465 229.363128 \nL 275.01025 229.452614 \nL 279.015034 229.363128 \nL 283.019819 229.094673 \nL 287.024604 228.647247 \nL 291.029388 228.020851 \nL 295.034173 227.215485 \nL 299.038958 226.231148 \nL 303.043743 225.067841 \nL 307.048527 223.725563 \nL 311.053312 222.204315 \nL 315.058097 220.504097 \nL 319.062881 218.624909 \nL 323.067666 216.56675 \nL 327.072451 214.329621 \nL 331.077235 211.913521 \nL 335.08202 209.318452 \nL 339.086805 206.544412 \nL 343.091589 203.591401 \nL 347.096374 200.459421 \nL 351.101159 197.148469 \nL 355.105943 193.658548 \nL 359.110728 189.989656 \nL 363.115513 186.141794 \nL 367.120298 182.114962 \nL 371.125082 177.909159 \nL 375.129867 173.524386 \nL 379.134652 168.960643 \nL 383.139436 164.217929 \nL 387.144221 159.296245 \nL 391.149006 154.195591 \n\" style=\"fill:none;stroke:#1f77b4;stroke-linecap:round;stroke-width:1.5;\"/>\n   </g>\n   <g id=\"patch_3\">\n    <path d=\"M 71.567188 239.33625 \nL 71.567188 21.89625 \n\" style=\"fill:none;stroke:#262626;stroke-linecap:square;stroke-linejoin:miter;stroke-width:1.25;\"/>\n   </g>\n   <g id=\"patch_4\">\n    <path d=\"M 406.367188 239.33625 \nL 406.367188 21.89625 \n\" style=\"fill:none;stroke:#262626;stroke-linecap:square;stroke-linejoin:miter;stroke-width:1.25;\"/>\n   </g>\n   <g id=\"patch_5\">\n    <path d=\"M 71.567188 239.33625 \nL 406.367187 239.33625 \n\" style=\"fill:none;stroke:#262626;stroke-linecap:square;stroke-linejoin:miter;stroke-width:1.25;\"/>\n   </g>\n   <g id=\"patch_6\">\n    <path d=\"M 71.567188 21.89625 \nL 406.367187 21.89625 \n\" style=\"fill:none;stroke:#262626;stroke-linecap:square;stroke-linejoin:miter;stroke-width:1.25;\"/>\n   </g>\n   <g id=\"text_20\">\n    <!-- Demo: Fancy Label Format on y-axis -->\n    <defs>\n     <path d=\"M 67.4375 35.109375 \nQ 67.4375 26.515625 64.84375 19.9375 \nQ 62.25 13.375 57.75 8.953125 \nQ 53.265625 4.546875 47.140625 2.265625 \nQ 41.015625 0 33.9375 0 \nL 8.203125 0 \nL 8.203125 68.796875 \nL 30.953125 68.796875 \nQ 38.921875 68.796875 45.625 66.8125 \nQ 52.34375 64.84375 57.171875 60.71875 \nQ 62.015625 56.59375 64.71875 50.234375 \nQ 67.4375 43.890625 67.4375 35.109375 \nz\nM 58.0625 35.109375 \nQ 58.0625 42.09375 56.046875 47.046875 \nQ 54.046875 52 50.4375 55.171875 \nQ 46.828125 58.34375 41.796875 59.828125 \nQ 36.765625 61.328125 30.765625 61.328125 \nL 17.53125 61.328125 \nL 17.53125 7.46875 \nL 32.859375 7.46875 \nQ 38.28125 7.46875 42.890625 9.21875 \nQ 47.515625 10.984375 50.875 14.453125 \nQ 54.25 17.921875 56.15625 23.09375 \nQ 58.0625 28.265625 58.0625 35.109375 \nz\n\" id=\"LiberationSans-68\"/>\n     <path d=\"M 37.5 0 \nL 37.5 33.5 \nQ 37.5 37.359375 37.015625 39.9375 \nQ 36.53125 42.53125 35.375 44.109375 \nQ 34.234375 45.703125 32.375 46.359375 \nQ 30.515625 47.015625 27.828125 47.015625 \nQ 25.046875 47.015625 22.796875 45.921875 \nQ 20.5625 44.828125 18.96875 42.75 \nQ 17.390625 40.671875 16.53125 37.625 \nQ 15.671875 34.578125 15.671875 30.609375 \nL 15.671875 0 \nL 6.9375 0 \nL 6.9375 41.546875 \nQ 6.9375 43.21875 6.90625 45.046875 \nQ 6.890625 46.875 6.828125 48.5 \nQ 6.78125 50.140625 6.734375 51.3125 \nQ 6.6875 52.484375 6.640625 52.828125 \nL 14.9375 52.828125 \nQ 14.984375 52.59375 15.03125 51.515625 \nQ 15.09375 50.4375 15.15625 49.046875 \nQ 15.234375 47.65625 15.28125 46.21875 \nQ 15.328125 44.78125 15.328125 43.796875 \nL 15.484375 43.796875 \nQ 16.65625 46.09375 18.015625 47.953125 \nQ 19.390625 49.8125 21.21875 51.09375 \nQ 23.046875 52.390625 25.40625 53.09375 \nQ 27.78125 53.8125 30.90625 53.8125 \nQ 36.921875 53.8125 40.40625 51.421875 \nQ 43.890625 49.03125 45.265625 43.796875 \nL 45.40625 43.796875 \nQ 46.578125 46.09375 48.046875 47.953125 \nQ 49.515625 49.8125 51.46875 51.09375 \nQ 53.421875 52.390625 55.859375 53.09375 \nQ 58.296875 53.8125 61.421875 53.8125 \nQ 65.4375 53.8125 68.328125 52.734375 \nQ 71.234375 51.65625 73.09375 49.40625 \nQ 74.953125 47.171875 75.828125 43.625 \nQ 76.703125 40.09375 76.703125 35.203125 \nL 76.703125 0 \nL 68.015625 0 \nL 68.015625 33.5 \nQ 68.015625 37.359375 67.53125 39.9375 \nQ 67.046875 42.53125 65.890625 44.109375 \nQ 64.75 45.703125 62.890625 46.359375 \nQ 61.03125 47.015625 58.34375 47.015625 \nQ 55.5625 47.015625 53.3125 45.96875 \nQ 51.078125 44.921875 49.484375 42.875 \nQ 47.90625 40.828125 47.046875 37.75 \nQ 46.1875 34.671875 46.1875 30.609375 \nL 46.1875 0 \nz\n\" id=\"LiberationSans-109\"/>\n     <path d=\"M 51.421875 26.46875 \nQ 51.421875 12.59375 45.3125 5.796875 \nQ 39.203125 -0.984375 27.59375 -0.984375 \nQ 22.078125 -0.984375 17.71875 0.671875 \nQ 13.375 2.34375 10.375 5.765625 \nQ 7.375 9.1875 5.78125 14.328125 \nQ 4.203125 19.484375 4.203125 26.46875 \nQ 4.203125 53.8125 27.875 53.8125 \nQ 34.03125 53.8125 38.5 52.09375 \nQ 42.96875 50.390625 45.828125 46.96875 \nQ 48.6875 43.5625 50.046875 38.421875 \nQ 51.421875 33.296875 51.421875 26.46875 \nz\nM 42.1875 26.46875 \nQ 42.1875 32.625 41.234375 36.625 \nQ 40.28125 40.625 38.453125 43.015625 \nQ 36.625 45.40625 33.984375 46.359375 \nQ 31.34375 47.3125 28.03125 47.3125 \nQ 24.65625 47.3125 21.9375 46.3125 \nQ 19.234375 45.3125 17.328125 42.890625 \nQ 15.4375 40.484375 14.421875 36.46875 \nQ 13.421875 32.46875 13.421875 26.46875 \nQ 13.421875 20.3125 14.5 16.28125 \nQ 15.578125 12.25 17.453125 9.859375 \nQ 19.34375 7.46875 21.90625 6.484375 \nQ 24.46875 5.515625 27.484375 5.515625 \nQ 30.859375 5.515625 33.59375 6.46875 \nQ 36.328125 7.421875 38.234375 9.8125 \nQ 40.140625 12.203125 41.15625 16.25 \nQ 42.1875 20.3125 42.1875 26.46875 \nz\n\" id=\"LiberationSans-111\"/>\n     <path d=\"M 9.125 42.71875 \nL 9.125 52.828125 \nL 18.65625 52.828125 \nL 18.65625 42.71875 \nz\nM 9.125 0 \nL 9.125 10.109375 \nL 18.65625 10.109375 \nL 18.65625 0 \nz\n\" id=\"LiberationSans-58\"/>\n     <path id=\"LiberationSans-32\"/>\n     <path d=\"M 17.53125 61.1875 \nL 17.53125 35.59375 \nL 55.90625 35.59375 \nL 55.90625 27.875 \nL 17.53125 27.875 \nL 17.53125 0 \nL 8.203125 0 \nL 8.203125 68.796875 \nL 57.078125 68.796875 \nL 57.078125 61.1875 \nz\n\" id=\"LiberationSans-70\"/>\n     <path d=\"M 20.21875 -0.984375 \nQ 12.25 -0.984375 8.25 3.21875 \nQ 4.25 7.421875 4.25 14.75 \nQ 4.25 19.96875 6.21875 23.3125 \nQ 8.203125 26.65625 11.390625 28.5625 \nQ 14.59375 30.46875 18.6875 31.203125 \nQ 22.796875 31.9375 27.046875 32.03125 \nL 38.921875 32.234375 \nL 38.921875 35.109375 \nQ 38.921875 38.375 38.234375 40.671875 \nQ 37.546875 42.96875 36.125 44.375 \nQ 34.71875 45.796875 32.59375 46.453125 \nQ 30.46875 47.125 27.59375 47.125 \nQ 25.046875 47.125 23 46.75 \nQ 20.953125 46.390625 19.4375 45.4375 \nQ 17.921875 44.484375 16.984375 42.84375 \nQ 16.0625 41.21875 15.765625 38.71875 \nL 6.59375 39.546875 \nQ 7.078125 42.671875 8.4375 45.28125 \nQ 9.8125 47.90625 12.328125 49.796875 \nQ 14.84375 51.703125 18.625 52.75 \nQ 22.40625 53.8125 27.78125 53.8125 \nQ 37.75 53.8125 42.765625 49.234375 \nQ 47.796875 44.671875 47.796875 36.03125 \nL 47.796875 13.28125 \nQ 47.796875 9.375 48.828125 7.390625 \nQ 49.859375 5.421875 52.734375 5.421875 \nQ 53.46875 5.421875 54.203125 5.515625 \nQ 54.9375 5.609375 55.609375 5.765625 \nL 55.609375 0.296875 \nQ 53.953125 -0.09375 52.3125 -0.28125 \nQ 50.6875 -0.484375 48.828125 -0.484375 \nQ 46.34375 -0.484375 44.5625 0.171875 \nQ 42.78125 0.828125 41.65625 2.171875 \nQ 40.53125 3.515625 39.9375 5.484375 \nQ 39.359375 7.46875 39.203125 10.109375 \nL 38.921875 10.109375 \nQ 37.5 7.5625 35.8125 5.515625 \nQ 34.125 3.46875 31.875 2.03125 \nQ 29.640625 0.59375 26.78125 -0.1875 \nQ 23.921875 -0.984375 20.21875 -0.984375 \nz\nM 22.21875 5.609375 \nQ 26.421875 5.609375 29.5625 7.140625 \nQ 32.71875 8.6875 34.78125 11.078125 \nQ 36.859375 13.484375 37.890625 16.3125 \nQ 38.921875 19.140625 38.921875 21.734375 \nL 38.921875 26.078125 \nL 29.296875 25.875 \nQ 26.078125 25.828125 23.171875 25.40625 \nQ 20.265625 25 18.0625 23.78125 \nQ 15.875 22.5625 14.578125 20.359375 \nQ 13.28125 18.171875 13.28125 14.59375 \nQ 13.28125 10.296875 15.59375 7.953125 \nQ 17.921875 5.609375 22.21875 5.609375 \nz\n\" id=\"LiberationSans-97\"/>\n     <path d=\"M 40.28125 0 \nL 40.28125 33.5 \nQ 40.28125 37.359375 39.71875 39.9375 \nQ 39.15625 42.53125 37.890625 44.109375 \nQ 36.625 45.703125 34.546875 46.359375 \nQ 32.46875 47.015625 29.390625 47.015625 \nQ 26.265625 47.015625 23.75 45.921875 \nQ 21.234375 44.828125 19.453125 42.75 \nQ 17.671875 40.671875 16.6875 37.625 \nQ 15.71875 34.578125 15.71875 30.609375 \nL 15.71875 0 \nL 6.9375 0 \nL 6.9375 41.546875 \nQ 6.9375 43.21875 6.90625 45.046875 \nQ 6.890625 46.875 6.828125 48.5 \nQ 6.78125 50.140625 6.734375 51.3125 \nQ 6.6875 52.484375 6.640625 52.828125 \nL 14.9375 52.828125 \nQ 14.984375 52.59375 15.03125 51.515625 \nQ 15.09375 50.4375 15.15625 49.046875 \nQ 15.234375 47.65625 15.28125 46.21875 \nQ 15.328125 44.78125 15.328125 43.796875 \nL 15.484375 43.796875 \nQ 16.75 46.09375 18.265625 47.953125 \nQ 19.78125 49.8125 21.78125 51.09375 \nQ 23.78125 52.390625 26.359375 53.09375 \nQ 28.953125 53.8125 32.375 53.8125 \nQ 36.765625 53.8125 39.9375 52.734375 \nQ 43.109375 51.65625 45.15625 49.40625 \nQ 47.21875 47.171875 48.171875 43.625 \nQ 49.125 40.09375 49.125 35.203125 \nL 49.125 0 \nz\n\" id=\"LiberationSans-110\"/>\n     <path d=\"M 13.421875 26.65625 \nQ 13.421875 22.125 14.078125 18.3125 \nQ 14.75 14.5 16.3125 11.734375 \nQ 17.875 8.984375 20.4375 7.46875 \nQ 23 5.953125 26.765625 5.953125 \nQ 31.453125 5.953125 34.59375 8.484375 \nQ 37.75 11.03125 38.484375 16.3125 \nL 47.359375 15.71875 \nQ 46.921875 12.453125 45.453125 9.421875 \nQ 44 6.390625 41.484375 4.09375 \nQ 38.96875 1.8125 35.34375 0.40625 \nQ 31.734375 -0.984375 27 -0.984375 \nQ 20.796875 -0.984375 16.453125 1.109375 \nQ 12.109375 3.21875 9.390625 6.90625 \nQ 6.6875 10.59375 5.46875 15.59375 \nQ 4.25 20.609375 4.25 26.46875 \nQ 4.25 31.78125 5.125 35.859375 \nQ 6 39.9375 7.59375 42.984375 \nQ 9.1875 46.046875 11.328125 48.125 \nQ 13.484375 50.203125 15.984375 51.4375 \nQ 18.5 52.6875 21.28125 53.25 \nQ 24.078125 53.8125 26.90625 53.8125 \nQ 31.34375 53.8125 34.8125 52.59375 \nQ 38.28125 51.375 40.796875 49.25 \nQ 43.3125 47.125 44.875 44.234375 \nQ 46.4375 41.359375 47.078125 38.03125 \nL 38.03125 37.359375 \nQ 37.359375 41.75 34.5625 44.328125 \nQ 31.78125 46.921875 26.65625 46.921875 \nQ 22.90625 46.921875 20.390625 45.671875 \nQ 17.875 44.4375 16.3125 41.921875 \nQ 14.75 39.40625 14.078125 35.59375 \nQ 13.421875 31.78125 13.421875 26.65625 \nz\n\" id=\"LiberationSans-99\"/>\n     <path d=\"M 8.203125 0 \nL 8.203125 68.796875 \nL 17.53125 68.796875 \nL 17.53125 7.625 \nL 52.296875 7.625 \nL 52.296875 0 \nz\n\" id=\"LiberationSans-76\"/>\n     <path d=\"M 51.421875 26.65625 \nQ 51.421875 -0.984375 31.984375 -0.984375 \nQ 25.984375 -0.984375 22 1.1875 \nQ 18.015625 3.375 15.53125 8.203125 \nL 15.4375 8.203125 \nQ 15.4375 6.9375 15.359375 5.5625 \nQ 15.28125 4.203125 15.203125 3.03125 \nQ 15.140625 1.859375 15.0625 1.03125 \nQ 14.984375 0.203125 14.9375 0 \nL 6.453125 0 \nQ 6.5 0.4375 6.546875 1.484375 \nQ 6.59375 2.546875 6.640625 4 \nQ 6.6875 5.46875 6.703125 7.21875 \nQ 6.734375 8.984375 6.734375 10.890625 \nL 6.734375 72.46875 \nL 15.53125 72.46875 \nL 15.53125 51.8125 \nQ 15.53125 50.34375 15.5 49 \nQ 15.484375 47.65625 15.4375 46.625 \nQ 15.375 45.40625 15.328125 44.34375 \nL 15.53125 44.34375 \nQ 17.96875 49.421875 22 51.609375 \nQ 26.03125 53.8125 31.984375 53.8125 \nQ 42 53.8125 46.703125 47.0625 \nQ 51.421875 40.328125 51.421875 26.65625 \nz\nM 42.1875 26.375 \nQ 42.1875 31.84375 41.5 35.75 \nQ 40.828125 39.65625 39.3125 42.15625 \nQ 37.796875 44.671875 35.453125 45.84375 \nQ 33.109375 47.015625 29.734375 47.015625 \nQ 26.265625 47.015625 23.609375 45.890625 \nQ 20.953125 44.78125 19.171875 42.28125 \nQ 17.390625 39.796875 16.453125 35.734375 \nQ 15.53125 31.6875 15.53125 25.828125 \nQ 15.53125 20.171875 16.453125 16.3125 \nQ 17.390625 12.453125 19.171875 10.03125 \nQ 20.953125 7.625 23.578125 6.5625 \nQ 26.21875 5.515625 29.640625 5.515625 \nQ 32.859375 5.515625 35.203125 6.640625 \nQ 37.546875 7.765625 39.109375 10.25 \nQ 40.671875 12.75 41.421875 16.71875 \nQ 42.1875 20.703125 42.1875 26.375 \nz\n\" id=\"LiberationSans-98\"/>\n     <path d=\"M 6.734375 0 \nL 6.734375 72.46875 \nL 15.53125 72.46875 \nL 15.53125 0 \nz\n\" id=\"LiberationSans-108\"/>\n     <path d=\"M 6.9375 0 \nL 6.9375 40.53125 \nQ 6.9375 42.1875 6.90625 43.921875 \nQ 6.890625 45.65625 6.828125 47.265625 \nQ 6.78125 48.875 6.734375 50.28125 \nQ 6.6875 51.703125 6.640625 52.828125 \nL 14.9375 52.828125 \nQ 14.984375 51.703125 15.0625 50.265625 \nQ 15.140625 48.828125 15.203125 47.3125 \nQ 15.28125 45.796875 15.296875 44.40625 \nQ 15.328125 43.015625 15.328125 42.046875 \nL 15.53125 42.046875 \nQ 16.453125 45.0625 17.5 47.28125 \nQ 18.5625 49.515625 19.96875 50.953125 \nQ 21.390625 52.390625 23.34375 53.09375 \nQ 25.296875 53.8125 28.078125 53.8125 \nQ 29.15625 53.8125 30.125 53.640625 \nQ 31.109375 53.46875 31.640625 53.328125 \nL 31.640625 45.265625 \nQ 30.765625 45.515625 29.59375 45.625 \nQ 28.421875 45.75 26.953125 45.75 \nQ 23.921875 45.75 21.796875 44.375 \nQ 19.671875 43.015625 18.328125 40.59375 \nQ 17 38.1875 16.359375 34.84375 \nQ 15.71875 31.5 15.71875 27.546875 \nL 15.71875 0 \nz\n\" id=\"LiberationSans-114\"/>\n     <path d=\"M 27.046875 0.390625 \nQ 25.046875 -0.140625 22.96875 -0.453125 \nQ 20.90625 -0.78125 18.171875 -0.78125 \nQ 7.625 -0.78125 7.625 11.1875 \nL 7.625 46.4375 \nL 1.515625 46.4375 \nL 1.515625 52.828125 \nL 7.953125 52.828125 \nL 10.546875 64.65625 \nL 16.40625 64.65625 \nL 16.40625 52.828125 \nL 26.171875 52.828125 \nL 26.171875 46.4375 \nL 16.40625 46.4375 \nL 16.40625 13.09375 \nQ 16.40625 9.28125 17.640625 7.734375 \nQ 18.890625 6.203125 21.96875 6.203125 \nQ 23.25 6.203125 24.4375 6.390625 \nQ 25.640625 6.59375 27.046875 6.890625 \nz\n\" id=\"LiberationSans-116\"/>\n     <path d=\"M 6.6875 64.0625 \nL 6.6875 72.46875 \nL 15.484375 72.46875 \nL 15.484375 64.0625 \nz\nM 6.6875 0 \nL 6.6875 52.828125 \nL 15.484375 52.828125 \nL 15.484375 0 \nz\n\" id=\"LiberationSans-105\"/>\n     <path d=\"M 46.390625 14.59375 \nQ 46.390625 10.890625 44.9375 7.984375 \nQ 43.5 5.078125 40.765625 3.09375 \nQ 38.03125 1.125 34.046875 0.0625 \nQ 30.078125 -0.984375 24.953125 -0.984375 \nQ 20.359375 -0.984375 16.671875 -0.265625 \nQ 12.984375 0.4375 10.203125 2 \nQ 7.421875 3.5625 5.53125 6.125 \nQ 3.65625 8.6875 2.78125 12.40625 \nL 10.546875 13.921875 \nQ 11.671875 9.671875 15.1875 7.6875 \nQ 18.703125 5.71875 24.953125 5.71875 \nQ 27.78125 5.71875 30.140625 6.109375 \nQ 32.515625 6.5 34.21875 7.453125 \nQ 35.9375 8.40625 36.890625 9.984375 \nQ 37.84375 11.578125 37.84375 13.921875 \nQ 37.84375 16.3125 36.71875 17.84375 \nQ 35.59375 19.390625 33.59375 20.40625 \nQ 31.59375 21.4375 28.734375 22.1875 \nQ 25.875 22.953125 22.46875 23.875 \nQ 19.28125 24.703125 16.15625 25.734375 \nQ 13.03125 26.765625 10.515625 28.4375 \nQ 8.015625 30.125 6.453125 32.609375 \nQ 4.890625 35.109375 4.890625 38.875 \nQ 4.890625 46.09375 10.03125 49.875 \nQ 15.1875 53.65625 25.046875 53.65625 \nQ 33.796875 53.65625 38.9375 50.578125 \nQ 44.09375 47.515625 45.453125 40.71875 \nL 37.546875 39.75 \nQ 37.109375 41.796875 35.9375 43.1875 \nQ 34.765625 44.578125 33.109375 45.4375 \nQ 31.453125 46.296875 29.375 46.65625 \nQ 27.296875 47.015625 25.046875 47.015625 \nQ 19.09375 47.015625 16.25 45.203125 \nQ 13.421875 43.40625 13.421875 39.75 \nQ 13.421875 37.59375 14.46875 36.203125 \nQ 15.53125 34.8125 17.40625 33.859375 \nQ 19.28125 32.90625 21.921875 32.203125 \nQ 24.5625 31.5 27.734375 30.71875 \nQ 29.828125 30.171875 32.03125 29.5625 \nQ 34.234375 28.953125 36.296875 28.09375 \nQ 38.375 27.25 40.203125 26.09375 \nQ 42.046875 24.953125 43.40625 23.34375 \nQ 44.78125 21.734375 45.578125 19.578125 \nQ 46.390625 17.4375 46.390625 14.59375 \nz\n\" id=\"LiberationSans-115\"/>\n    </defs>\n    <g style=\"fill:#262626;\" transform=\"translate(140.60375 15.89625)scale(0.12 -0.12)\">\n     <use xlink:href=\"#LiberationSans-68\"/>\n     <use x=\"72.216797\" xlink:href=\"#LiberationSans-101\"/>\n     <use x=\"127.832031\" xlink:href=\"#LiberationSans-109\"/>\n     <use x=\"211.132812\" xlink:href=\"#LiberationSans-111\"/>\n     <use x=\"266.748047\" xlink:href=\"#LiberationSans-58\"/>\n     <use x=\"294.53125\" xlink:href=\"#LiberationSans-32\"/>\n     <use x=\"322.314453\" xlink:href=\"#LiberationSans-70\"/>\n     <use x=\"383.398438\" xlink:href=\"#LiberationSans-97\"/>\n     <use x=\"439.013672\" xlink:href=\"#LiberationSans-110\"/>\n     <use x=\"494.628906\" xlink:href=\"#LiberationSans-99\"/>\n     <use x=\"544.628906\" xlink:href=\"#LiberationSans-121\"/>\n     <use x=\"594.628906\" xlink:href=\"#LiberationSans-32\"/>\n     <use x=\"622.412109\" xlink:href=\"#LiberationSans-76\"/>\n     <use x=\"678.027344\" xlink:href=\"#LiberationSans-97\"/>\n     <use x=\"733.642578\" xlink:href=\"#LiberationSans-98\"/>\n     <use x=\"789.257812\" xlink:href=\"#LiberationSans-101\"/>\n     <use x=\"844.873047\" xlink:href=\"#LiberationSans-108\"/>\n     <use x=\"867.089844\" xlink:href=\"#LiberationSans-32\"/>\n     <use x=\"894.873047\" xlink:href=\"#LiberationSans-70\"/>\n     <use x=\"955.957031\" xlink:href=\"#LiberationSans-111\"/>\n     <use x=\"1011.572266\" xlink:href=\"#LiberationSans-114\"/>\n     <use x=\"1044.873047\" xlink:href=\"#LiberationSans-109\"/>\n     <use x=\"1128.173828\" xlink:href=\"#LiberationSans-97\"/>\n     <use x=\"1183.789062\" xlink:href=\"#LiberationSans-116\"/>\n     <use x=\"1211.572266\" xlink:href=\"#LiberationSans-32\"/>\n     <use x=\"1239.355469\" xlink:href=\"#LiberationSans-111\"/>\n     <use x=\"1294.970703\" xlink:href=\"#LiberationSans-110\"/>\n     <use x=\"1350.585938\" xlink:href=\"#LiberationSans-32\"/>\n     <use x=\"1378.369141\" xlink:href=\"#LiberationSans-121\"/>\n     <use x=\"1428.369141\" xlink:href=\"#LiberationSans-45\"/>\n     <use x=\"1461.669922\" xlink:href=\"#LiberationSans-97\"/>\n     <use x=\"1517.285156\" xlink:href=\"#LiberationSans-120\"/>\n     <use x=\"1567.285156\" xlink:href=\"#LiberationSans-105\"/>\n     <use x=\"1589.501953\" xlink:href=\"#LiberationSans-115\"/>\n    </g>\n   </g>\n   <g id=\"legend_1\">\n    <g id=\"line2d_19\">\n     <path d=\"M 311.025 34.643125 \nL 331.025 34.643125 \n\" style=\"fill:none;stroke:#1f77b4;stroke-linecap:round;stroke-width:1.5;\"/>\n    </g>\n    <g id=\"line2d_20\"/>\n    <g id=\"text_21\">\n     <!-- Dummy Data -->\n     <defs>\n      <path d=\"M 15.328125 52.828125 \nL 15.328125 19.34375 \nQ 15.328125 15.484375 15.890625 12.890625 \nQ 16.453125 10.296875 17.71875 8.703125 \nQ 19 7.125 21.0625 6.46875 \nQ 23.140625 5.8125 26.21875 5.8125 \nQ 29.34375 5.8125 31.859375 6.90625 \nQ 34.375 8.015625 36.15625 10.078125 \nQ 37.9375 12.15625 38.90625 15.203125 \nQ 39.890625 18.265625 39.890625 22.21875 \nL 39.890625 52.828125 \nL 48.6875 52.828125 \nL 48.6875 11.28125 \nQ 48.6875 9.625 48.703125 7.78125 \nQ 48.734375 5.953125 48.78125 4.3125 \nQ 48.828125 2.6875 48.875 1.515625 \nQ 48.921875 0.34375 48.96875 0 \nL 40.671875 0 \nQ 40.625 0.25 40.578125 1.3125 \nQ 40.53125 2.390625 40.453125 3.78125 \nQ 40.375 5.171875 40.328125 6.609375 \nQ 40.28125 8.0625 40.28125 9.03125 \nL 40.140625 9.03125 \nQ 38.875 6.734375 37.359375 4.875 \nQ 35.84375 3.03125 33.84375 1.734375 \nQ 31.84375 0.4375 29.25 -0.265625 \nQ 26.65625 -0.984375 23.25 -0.984375 \nQ 18.84375 -0.984375 15.671875 0.09375 \nQ 12.5 1.171875 10.453125 3.421875 \nQ 8.40625 5.671875 7.453125 9.1875 \nQ 6.5 12.703125 6.5 17.625 \nL 6.5 52.828125 \nz\n\" id=\"LiberationSans-117\"/>\n     </defs>\n     <g style=\"fill:#262626;\" transform=\"translate(339.025 38.143125)scale(0.1 -0.1)\">\n      <use xlink:href=\"#LiberationSans-68\"/>\n      <use x=\"72.216797\" xlink:href=\"#LiberationSans-117\"/>\n      <use x=\"127.832031\" xlink:href=\"#LiberationSans-109\"/>\n      <use x=\"211.132812\" xlink:href=\"#LiberationSans-109\"/>\n      <use x=\"294.433594\" xlink:href=\"#LiberationSans-121\"/>\n      <use x=\"344.433594\" xlink:href=\"#LiberationSans-32\"/>\n      <use x=\"372.216797\" xlink:href=\"#LiberationSans-68\"/>\n      <use x=\"444.433594\" xlink:href=\"#LiberationSans-97\"/>\n      <use x=\"500.048828\" xlink:href=\"#LiberationSans-116\"/>\n      <use x=\"527.832031\" xlink:href=\"#LiberationSans-97\"/>\n     </g>\n    </g>\n   </g>\n  </g>\n </g>\n <defs>\n  <clipPath id=\"p7f0816db4a\">\n   <rect height=\"217.44\" width=\"334.8\" x=\"71.567188\" y=\"21.89625\"/>\n  </clipPath>\n </defs>\n</svg>\n"
          },
          "metadata": {
            "tags": []
          }
        }
      ]
    },
    {
      "cell_type": "code",
      "metadata": {
        "id": "7hAO4-IOHBly",
        "colab_type": "code",
        "colab": {}
      },
      "source": [
        ""
      ],
      "execution_count": 0,
      "outputs": []
    }
  ]
}